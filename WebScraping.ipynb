{
  "nbformat": 4,
  "nbformat_minor": 0,
  "metadata": {
    "colab": {
      "name": "WebScraping.ipynb",
      "provenance": [],
      "authorship_tag": "ABX9TyPwTtvIfPCARcCOa6S+rrt4",
      "include_colab_link": true
    },
    "kernelspec": {
      "name": "python3",
      "display_name": "Python 3"
    },
    "language_info": {
      "name": "python"
    }
  },
  "cells": [
    {
      "cell_type": "markdown",
      "metadata": {
        "id": "view-in-github",
        "colab_type": "text"
      },
      "source": [
        "<a href=\"https://colab.research.google.com/github/kombuwaa/Coursera_ML/blob/main/WebScraping.ipynb\" target=\"_parent\"><img src=\"https://colab.research.google.com/assets/colab-badge.svg\" alt=\"Open In Colab\"/></a>"
      ]
    },
    {
      "cell_type": "code",
      "execution_count": null,
      "metadata": {
        "id": "dmthglUadO_-"
      },
      "outputs": [],
      "source": [
        "from google.colab import drive\n",
        "import re\n",
        "from bs4 import BeautifulSoup\n",
        "import pandas as pd\n",
        "import requests\n",
        "from time import sleep"
      ]
    },
    {
      "cell_type": "code",
      "source": [
        "headers = {\n",
        "    'User-Agent':'Mozilla/5.0 (Windows NT 10.0; Win64; x64) AppleWebKit/537.36 (KHTML, like Gecko) Chrome/100.0.4896.160 YaBrowser/22.5.3.684 Yowser/2.5 Safari/537.36'\n",
        "}\n",
        "url=r'https://www.kinopoisk.ru/lists/movies/top250/?page=1'\n",
        "# response = requests.get(url=url,headers=headers)\n",
        "# soup = BeautifulSoup(response.content,'html.parser')"
      ],
      "metadata": {
        "id": "iPo3NVJ2du-P"
      },
      "execution_count": null,
      "outputs": []
    },
    {
      "cell_type": "code",
      "source": [
        "films_data=[]\n",
        "\n",
        "for page in range(1,6):\n",
        "  url = f'https://www.kinopoisk.ru/lists/movies/top250/?page={page}'\n",
        "  print(page)\n",
        "  response = requests.get(url=url,headers=headers)\n",
        "  sleep(10)\n",
        "  soup = BeautifulSoup(response.content,'html.parser')\n",
        "  films=soup.findAll('div',class_=\"styles_root__ti07r\")\n",
        "\n",
        "  for film in films:\n",
        "    link= 'https://www.kinopoisk.ru' + film.find('a',class_='base-movie-main-info_link__YwtP1').get('href')\n",
        "\n",
        "    ru_name=film.find('a',class_='base-movie-main-info_link__YwtP1').find('span',class_='styles_mainTitle__IFQyZ styles_activeMovieTittle__kJdJj').text\n",
        "\n",
        "    sec_info = film.find('a',class_='base-movie-main-info_link__YwtP1').find('span',class_='desktop-list-main-info_secondaryText__M_aus').text\n",
        "    if sec_info.count(',')==2:\n",
        "      orig_name=sec_info[0:sec_info.find(',')]\n",
        "      year=sec_info[sec_info.find(',')+2:sec_info.rfind(',')]\n",
        "      duration=sec_info[sec_info.rfind(',')+2:len(sec_info)-1]\n",
        "    else:\n",
        "      orig_name=ru_name\n",
        "      year=sec_info[0:sec_info.find(',')]\n",
        "      duration=sec_info[sec_info.find(',')+2:len(sec_info)-1]\n",
        "\n",
        "    add_info=film.find('a',class_='base-movie-main-info_link__YwtP1').findAll('span',class_='desktop-list-main-info_truncatedText__IMQRP')[0].text.replace('•',\",\")\n",
        "    country=add_info[0:add_info.find(',')-1]\n",
        "    film_type=add_info[add_info.find(',')+1:add_info.find('Р')-2]\n",
        "    director=add_info[add_info.find(':')+1:len(add_info)]\n",
        "\n",
        "    last_add_info=film.find('a',class_='base-movie-main-info_link__YwtP1').findAll('span',class_='desktop-list-main-info_truncatedText__IMQRP')[1].text\n",
        "    starring=last_add_info[last_add_info.find(':')+2:len(last_add_info)]\n",
        "\n",
        "    rate=film.find('span',class_='styles_kinopoiskValuePositive__vOb2E styles_kinopoiskValue__9qXjg').text\n",
        "    films_data.append([link,ru_name,orig_name,year,duration,country,film_type,director,starring,rate])\n"
      ],
      "metadata": {
        "id": "NnsVcQxvdoDf",
        "colab": {
          "base_uri": "https://localhost:8080/"
        },
        "outputId": "5c9e406a-3ea8-4ab8-faab-bc499edaf685"
      },
      "execution_count": null,
      "outputs": [
        {
          "output_type": "stream",
          "name": "stdout",
          "text": [
            "1\n",
            "2\n",
            "3\n",
            "4\n",
            "5\n"
          ]
        }
      ]
    },
    {
      "cell_type": "code",
      "source": [
        "header=['link','ru_name','orig_name','year','duration','country','film_type','director','starring','rate']\n",
        "df=pd.DataFrame(films_data,columns=header)\n"
      ],
      "metadata": {
        "id": "kDqb1vcItpha"
      },
      "execution_count": null,
      "outputs": []
    },
    {
      "cell_type": "code",
      "source": [
        "df"
      ],
      "metadata": {
        "colab": {
          "base_uri": "https://localhost:8080/",
          "height": 424
        },
        "id": "jG2jJ159zAW1",
        "outputId": "fdb6f919-ffe0-47dd-8483-305677b1578d"
      },
      "execution_count": null,
      "outputs": [
        {
          "output_type": "execute_result",
          "data": {
            "text/plain": [
              "                                      link  \\\n",
              "0       https://www.kinopoisk.ru/film/435/   \n",
              "1       https://www.kinopoisk.ru/film/329/   \n",
              "2       https://www.kinopoisk.ru/film/326/   \n",
              "3      https://www.kinopoisk.ru/film/3498/   \n",
              "4       https://www.kinopoisk.ru/film/448/   \n",
              "..                                     ...   \n",
              "195     https://www.kinopoisk.ru/film/782/   \n",
              "196   https://www.kinopoisk.ru/film/48356/   \n",
              "197    https://www.kinopoisk.ru/film/8222/   \n",
              "198  https://www.kinopoisk.ru/film/466581/   \n",
              "199   https://www.kinopoisk.ru/film/46512/   \n",
              "\n",
              "                                 ru_name  \\\n",
              "0                           Зеленая миля   \n",
              "1                        Список Шиндлера   \n",
              "2                      Побег из Шоушенка   \n",
              "3    Властелин колец: Возвращение короля   \n",
              "4                           Форрест Гамп   \n",
              "..                                   ...   \n",
              "195                      Заплати другому   \n",
              "196         Гарри Поттер и Орден Феникса   \n",
              "197              Кошмар перед Рождеством   \n",
              "198                       Хранители снов   \n",
              "199                    Максим Перепелица   \n",
              "\n",
              "                                         orig_name  year duration  \\\n",
              "0                                   The Green Mile  1999  189 мин   \n",
              "1                                 Schindler's List  1993  195 мин   \n",
              "2                         The Shawshank Redemption  1994  142 мин   \n",
              "3    The Lord of the Rings: The Return of the King  2003  201 мин   \n",
              "4                                     Forrest Gump  1994  142 мин   \n",
              "..                                             ...   ...      ...   \n",
              "195                                 Pay It Forward  2000  123 мин   \n",
              "196      Harry Potter and the Order of the Phoenix  2007  138 мин   \n",
              "197                 The Nightmare Before Christmas  1993   76 мин   \n",
              "198                          Rise of the Guardians  2012   97 мин   \n",
              "199                              Максим Перепелица  1955   87 мин   \n",
              "\n",
              "            country    film_type          director  \\\n",
              "0               США        драма    Фрэнк Дарабонт   \n",
              "1               США        драма   Стивен Спилберг   \n",
              "2               США        драма    Фрэнк Дарабонт   \n",
              "3    Новая Зеландия      фэнтези     Питер Джексон   \n",
              "4               США        драма    Роберт Земекис   \n",
              "..              ...          ...               ...   \n",
              "195             США        драма        Мими Ледер   \n",
              "196  Великобритания      фэнтези       Дэвид Йейтс   \n",
              "197             США   мультфильм       Генри Селик   \n",
              "198             США   мультфильм       Питер Рэмзи   \n",
              "199            СССР                Анатолий Граник   \n",
              "\n",
              "                            starring rate  \n",
              "0              Том Хэнкс, Дэвид Морс  9.1  \n",
              "1            Лиам Нисон, Бен Кингсли  9.0  \n",
              "2         Тим Роббинс, Морган Фриман  9.0  \n",
              "3       Элайджа Вуд, Вигго Мортенсен  8.9  \n",
              "4              Том Хэнкс, Робин Райт  8.9  \n",
              "..                               ...  ...  \n",
              "195         Кевин Спейси, Хелен Хант  8.1  \n",
              "196    Дэниэл Рэдклифф, Руперт Гринт  8.1  \n",
              "197      Дэнни Элфман, Крис Сарандон  8.1  \n",
              "198          Крис Пайн, Алек Болдуин  8.1  \n",
              "199  Леонид Быков, Александр Борисов  8.1  \n",
              "\n",
              "[200 rows x 10 columns]"
            ],
            "text/html": [
              "\n",
              "  <div id=\"df-ef0f1246-cc4e-427b-a338-fde21ac0252c\">\n",
              "    <div class=\"colab-df-container\">\n",
              "      <div>\n",
              "<style scoped>\n",
              "    .dataframe tbody tr th:only-of-type {\n",
              "        vertical-align: middle;\n",
              "    }\n",
              "\n",
              "    .dataframe tbody tr th {\n",
              "        vertical-align: top;\n",
              "    }\n",
              "\n",
              "    .dataframe thead th {\n",
              "        text-align: right;\n",
              "    }\n",
              "</style>\n",
              "<table border=\"1\" class=\"dataframe\">\n",
              "  <thead>\n",
              "    <tr style=\"text-align: right;\">\n",
              "      <th></th>\n",
              "      <th>link</th>\n",
              "      <th>ru_name</th>\n",
              "      <th>orig_name</th>\n",
              "      <th>year</th>\n",
              "      <th>duration</th>\n",
              "      <th>country</th>\n",
              "      <th>film_type</th>\n",
              "      <th>director</th>\n",
              "      <th>starring</th>\n",
              "      <th>rate</th>\n",
              "    </tr>\n",
              "  </thead>\n",
              "  <tbody>\n",
              "    <tr>\n",
              "      <th>0</th>\n",
              "      <td>https://www.kinopoisk.ru/film/435/</td>\n",
              "      <td>Зеленая миля</td>\n",
              "      <td>The Green Mile</td>\n",
              "      <td>1999</td>\n",
              "      <td>189 мин</td>\n",
              "      <td>США</td>\n",
              "      <td>драма</td>\n",
              "      <td>Фрэнк Дарабонт</td>\n",
              "      <td>Том Хэнкс, Дэвид Морс</td>\n",
              "      <td>9.1</td>\n",
              "    </tr>\n",
              "    <tr>\n",
              "      <th>1</th>\n",
              "      <td>https://www.kinopoisk.ru/film/329/</td>\n",
              "      <td>Список Шиндлера</td>\n",
              "      <td>Schindler's List</td>\n",
              "      <td>1993</td>\n",
              "      <td>195 мин</td>\n",
              "      <td>США</td>\n",
              "      <td>драма</td>\n",
              "      <td>Стивен Спилберг</td>\n",
              "      <td>Лиам Нисон, Бен Кингсли</td>\n",
              "      <td>9.0</td>\n",
              "    </tr>\n",
              "    <tr>\n",
              "      <th>2</th>\n",
              "      <td>https://www.kinopoisk.ru/film/326/</td>\n",
              "      <td>Побег из Шоушенка</td>\n",
              "      <td>The Shawshank Redemption</td>\n",
              "      <td>1994</td>\n",
              "      <td>142 мин</td>\n",
              "      <td>США</td>\n",
              "      <td>драма</td>\n",
              "      <td>Фрэнк Дарабонт</td>\n",
              "      <td>Тим Роббинс, Морган Фриман</td>\n",
              "      <td>9.0</td>\n",
              "    </tr>\n",
              "    <tr>\n",
              "      <th>3</th>\n",
              "      <td>https://www.kinopoisk.ru/film/3498/</td>\n",
              "      <td>Властелин колец: Возвращение короля</td>\n",
              "      <td>The Lord of the Rings: The Return of the King</td>\n",
              "      <td>2003</td>\n",
              "      <td>201 мин</td>\n",
              "      <td>Новая Зеландия</td>\n",
              "      <td>фэнтези</td>\n",
              "      <td>Питер Джексон</td>\n",
              "      <td>Элайджа Вуд, Вигго Мортенсен</td>\n",
              "      <td>8.9</td>\n",
              "    </tr>\n",
              "    <tr>\n",
              "      <th>4</th>\n",
              "      <td>https://www.kinopoisk.ru/film/448/</td>\n",
              "      <td>Форрест Гамп</td>\n",
              "      <td>Forrest Gump</td>\n",
              "      <td>1994</td>\n",
              "      <td>142 мин</td>\n",
              "      <td>США</td>\n",
              "      <td>драма</td>\n",
              "      <td>Роберт Земекис</td>\n",
              "      <td>Том Хэнкс, Робин Райт</td>\n",
              "      <td>8.9</td>\n",
              "    </tr>\n",
              "    <tr>\n",
              "      <th>...</th>\n",
              "      <td>...</td>\n",
              "      <td>...</td>\n",
              "      <td>...</td>\n",
              "      <td>...</td>\n",
              "      <td>...</td>\n",
              "      <td>...</td>\n",
              "      <td>...</td>\n",
              "      <td>...</td>\n",
              "      <td>...</td>\n",
              "      <td>...</td>\n",
              "    </tr>\n",
              "    <tr>\n",
              "      <th>195</th>\n",
              "      <td>https://www.kinopoisk.ru/film/782/</td>\n",
              "      <td>Заплати другому</td>\n",
              "      <td>Pay It Forward</td>\n",
              "      <td>2000</td>\n",
              "      <td>123 мин</td>\n",
              "      <td>США</td>\n",
              "      <td>драма</td>\n",
              "      <td>Мими Ледер</td>\n",
              "      <td>Кевин Спейси, Хелен Хант</td>\n",
              "      <td>8.1</td>\n",
              "    </tr>\n",
              "    <tr>\n",
              "      <th>196</th>\n",
              "      <td>https://www.kinopoisk.ru/film/48356/</td>\n",
              "      <td>Гарри Поттер и Орден Феникса</td>\n",
              "      <td>Harry Potter and the Order of the Phoenix</td>\n",
              "      <td>2007</td>\n",
              "      <td>138 мин</td>\n",
              "      <td>Великобритания</td>\n",
              "      <td>фэнтези</td>\n",
              "      <td>Дэвид Йейтс</td>\n",
              "      <td>Дэниэл Рэдклифф, Руперт Гринт</td>\n",
              "      <td>8.1</td>\n",
              "    </tr>\n",
              "    <tr>\n",
              "      <th>197</th>\n",
              "      <td>https://www.kinopoisk.ru/film/8222/</td>\n",
              "      <td>Кошмар перед Рождеством</td>\n",
              "      <td>The Nightmare Before Christmas</td>\n",
              "      <td>1993</td>\n",
              "      <td>76 мин</td>\n",
              "      <td>США</td>\n",
              "      <td>мультфильм</td>\n",
              "      <td>Генри Селик</td>\n",
              "      <td>Дэнни Элфман, Крис Сарандон</td>\n",
              "      <td>8.1</td>\n",
              "    </tr>\n",
              "    <tr>\n",
              "      <th>198</th>\n",
              "      <td>https://www.kinopoisk.ru/film/466581/</td>\n",
              "      <td>Хранители снов</td>\n",
              "      <td>Rise of the Guardians</td>\n",
              "      <td>2012</td>\n",
              "      <td>97 мин</td>\n",
              "      <td>США</td>\n",
              "      <td>мультфильм</td>\n",
              "      <td>Питер Рэмзи</td>\n",
              "      <td>Крис Пайн, Алек Болдуин</td>\n",
              "      <td>8.1</td>\n",
              "    </tr>\n",
              "    <tr>\n",
              "      <th>199</th>\n",
              "      <td>https://www.kinopoisk.ru/film/46512/</td>\n",
              "      <td>Максим Перепелица</td>\n",
              "      <td>Максим Перепелица</td>\n",
              "      <td>1955</td>\n",
              "      <td>87 мин</td>\n",
              "      <td>СССР</td>\n",
              "      <td></td>\n",
              "      <td>Анатолий Граник</td>\n",
              "      <td>Леонид Быков, Александр Борисов</td>\n",
              "      <td>8.1</td>\n",
              "    </tr>\n",
              "  </tbody>\n",
              "</table>\n",
              "<p>200 rows × 10 columns</p>\n",
              "</div>\n",
              "      <button class=\"colab-df-convert\" onclick=\"convertToInteractive('df-ef0f1246-cc4e-427b-a338-fde21ac0252c')\"\n",
              "              title=\"Convert this dataframe to an interactive table.\"\n",
              "              style=\"display:none;\">\n",
              "        \n",
              "  <svg xmlns=\"http://www.w3.org/2000/svg\" height=\"24px\"viewBox=\"0 0 24 24\"\n",
              "       width=\"24px\">\n",
              "    <path d=\"M0 0h24v24H0V0z\" fill=\"none\"/>\n",
              "    <path d=\"M18.56 5.44l.94 2.06.94-2.06 2.06-.94-2.06-.94-.94-2.06-.94 2.06-2.06.94zm-11 1L8.5 8.5l.94-2.06 2.06-.94-2.06-.94L8.5 2.5l-.94 2.06-2.06.94zm10 10l.94 2.06.94-2.06 2.06-.94-2.06-.94-.94-2.06-.94 2.06-2.06.94z\"/><path d=\"M17.41 7.96l-1.37-1.37c-.4-.4-.92-.59-1.43-.59-.52 0-1.04.2-1.43.59L10.3 9.45l-7.72 7.72c-.78.78-.78 2.05 0 2.83L4 21.41c.39.39.9.59 1.41.59.51 0 1.02-.2 1.41-.59l7.78-7.78 2.81-2.81c.8-.78.8-2.07 0-2.86zM5.41 20L4 18.59l7.72-7.72 1.47 1.35L5.41 20z\"/>\n",
              "  </svg>\n",
              "      </button>\n",
              "      \n",
              "  <style>\n",
              "    .colab-df-container {\n",
              "      display:flex;\n",
              "      flex-wrap:wrap;\n",
              "      gap: 12px;\n",
              "    }\n",
              "\n",
              "    .colab-df-convert {\n",
              "      background-color: #E8F0FE;\n",
              "      border: none;\n",
              "      border-radius: 50%;\n",
              "      cursor: pointer;\n",
              "      display: none;\n",
              "      fill: #1967D2;\n",
              "      height: 32px;\n",
              "      padding: 0 0 0 0;\n",
              "      width: 32px;\n",
              "    }\n",
              "\n",
              "    .colab-df-convert:hover {\n",
              "      background-color: #E2EBFA;\n",
              "      box-shadow: 0px 1px 2px rgba(60, 64, 67, 0.3), 0px 1px 3px 1px rgba(60, 64, 67, 0.15);\n",
              "      fill: #174EA6;\n",
              "    }\n",
              "\n",
              "    [theme=dark] .colab-df-convert {\n",
              "      background-color: #3B4455;\n",
              "      fill: #D2E3FC;\n",
              "    }\n",
              "\n",
              "    [theme=dark] .colab-df-convert:hover {\n",
              "      background-color: #434B5C;\n",
              "      box-shadow: 0px 1px 3px 1px rgba(0, 0, 0, 0.15);\n",
              "      filter: drop-shadow(0px 1px 2px rgba(0, 0, 0, 0.3));\n",
              "      fill: #FFFFFF;\n",
              "    }\n",
              "  </style>\n",
              "\n",
              "      <script>\n",
              "        const buttonEl =\n",
              "          document.querySelector('#df-ef0f1246-cc4e-427b-a338-fde21ac0252c button.colab-df-convert');\n",
              "        buttonEl.style.display =\n",
              "          google.colab.kernel.accessAllowed ? 'block' : 'none';\n",
              "\n",
              "        async function convertToInteractive(key) {\n",
              "          const element = document.querySelector('#df-ef0f1246-cc4e-427b-a338-fde21ac0252c');\n",
              "          const dataTable =\n",
              "            await google.colab.kernel.invokeFunction('convertToInteractive',\n",
              "                                                     [key], {});\n",
              "          if (!dataTable) return;\n",
              "\n",
              "          const docLinkHtml = 'Like what you see? Visit the ' +\n",
              "            '<a target=\"_blank\" href=https://colab.research.google.com/notebooks/data_table.ipynb>data table notebook</a>'\n",
              "            + ' to learn more about interactive tables.';\n",
              "          element.innerHTML = '';\n",
              "          dataTable['output_type'] = 'display_data';\n",
              "          await google.colab.output.renderOutput(dataTable, element);\n",
              "          const docLink = document.createElement('div');\n",
              "          docLink.innerHTML = docLinkHtml;\n",
              "          element.appendChild(docLink);\n",
              "        }\n",
              "      </script>\n",
              "    </div>\n",
              "  </div>\n",
              "  "
            ]
          },
          "metadata": {},
          "execution_count": 5
        }
      ]
    },
    {
      "cell_type": "code",
      "source": [
        "link= 'https://www.kinopoisk.ru' + soup.find('div',class_='styles_root__ti07r').find('a',class_='base-movie-main-info_link__YwtP1').get('href')\n",
        "link"
      ],
      "metadata": {
        "colab": {
          "base_uri": "https://localhost:8080/",
          "height": 35
        },
        "id": "5yMmmJchfoN-",
        "outputId": "dff9e795-aecc-4615-efb9-0555c2501b1e"
      },
      "execution_count": null,
      "outputs": [
        {
          "output_type": "execute_result",
          "data": {
            "text/plain": [
              "'https://www.kinopoisk.ru/film/86326/'"
            ],
            "application/vnd.google.colaboratory.intrinsic+json": {
              "type": "string"
            }
          },
          "metadata": {},
          "execution_count": 6
        }
      ]
    },
    {
      "cell_type": "code",
      "source": [
        "ru_name=soup.find('div',class_='styles_root__ti07r').find('a',class_='base-movie-main-info_link__YwtP1').find('span',class_='styles_mainTitle__IFQyZ styles_activeMovieTittle__kJdJj').text"
      ],
      "metadata": {
        "id": "LmW00wlcgX8Y"
      },
      "execution_count": null,
      "outputs": []
    },
    {
      "cell_type": "code",
      "source": [
        "sec_info = soup.find('div',class_='styles_root__ti07r').find('a',class_='base-movie-main-info_link__YwtP1').find('span',class_='desktop-list-main-info_secondaryText__M_aus').text\n",
        "if sec_info.count(',')==2:\n",
        "  orig_name=sec_info[0:sec_info.find(',')]\n",
        "  year=sec_info[sec_info.find(',')+2:sec_info.rfind(',')]\n",
        "  duration=sec_info[sec_info.rfind(',')+2:len(sec_info)-1]\n",
        "else:\n",
        "  year=sec_info[0:sec_info.find(',')]\n",
        "  duration=sec_info[sec_info.find(',')+2:len(sec_info)-1]"
      ],
      "metadata": {
        "id": "o_Xxs7ymgnoY"
      },
      "execution_count": null,
      "outputs": []
    },
    {
      "cell_type": "code",
      "source": [
        "add_info=soup.find('div',class_='styles_root__ti07r').find('a',class_='base-movie-main-info_link__YwtP1').find('span',class_='desktop-list-main-info_truncatedText__IMQRP').text.replace('•',\",\")\n",
        "country=add_info[0:add_info.find(',')]\n",
        "film_type=add_info[add_info.find(',')+1:add_info.find('Р')-2]\n",
        "director=add_info[add_info.find(':')+1:len(add_info)-1]"
      ],
      "metadata": {
        "id": "B-9uw26Hg5KX"
      },
      "execution_count": null,
      "outputs": []
    },
    {
      "cell_type": "code",
      "source": [
        "last_add_info=soup.find('div',class_='styles_root__ti07r').find('a',class_='base-movie-main-info_link__YwtP1').findAll('span',class_='desktop-list-main-info_truncatedText__IMQRP')[1].text\n",
        "starring=last_add_info[last_add_info.find(':')+2:len(last_add_info)-1]"
      ],
      "metadata": {
        "id": "fVLXi-u7keNk"
      },
      "execution_count": null,
      "outputs": []
    },
    {
      "cell_type": "code",
      "source": [
        "rate=soup.find('span',class_='styles_kinopoiskValuePositive__vOb2E styles_kinopoiskValue__9qXjg').text"
      ],
      "metadata": {
        "id": "AQ5rygQXpe74"
      },
      "execution_count": null,
      "outputs": []
    },
    {
      "cell_type": "code",
      "source": [
        "f=3\n",
        "print (f'f={f}')"
      ],
      "metadata": {
        "colab": {
          "base_uri": "https://localhost:8080/"
        },
        "id": "nFFzsSGfq6Rj",
        "outputId": "ba874780-60ac-4f0a-dc71-5d8816f8f843"
      },
      "execution_count": null,
      "outputs": [
        {
          "output_type": "stream",
          "name": "stdout",
          "text": [
            "f=3\n"
          ]
        }
      ]
    },
    {
      "cell_type": "code",
      "source": [
        ""
      ],
      "metadata": {
        "id": "XKyLp8DB-ezn"
      },
      "execution_count": null,
      "outputs": []
    }
  ]
}